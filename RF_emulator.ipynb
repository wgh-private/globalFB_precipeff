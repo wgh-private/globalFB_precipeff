{
 "cells": [
  {
   "cell_type": "code",
   "execution_count": 1,
   "id": "ecbe54f7-039a-4ecd-9eb9-7869b8fe630b",
   "metadata": {},
   "outputs": [
    {
     "data": {
      "text/plain": [
       "'Random forest emulation for the ∆LWP_conv*A_conv*Incoming_Solar vs ∂LWP/∂WCB cored by ∆CRE'"
      ]
     },
     "execution_count": 1,
     "metadata": {},
     "output_type": "execute_result"
    }
   ],
   "source": [
    "'Random forest emulation for the ∆LWP_conv*A_conv*Incoming_Solar vs ∂LWP/∂WCB cored by ∆CRE'"
   ]
  },
  {
   "cell_type": "code",
   "execution_count": 2,
   "id": "75b6fda5-9041-4b2e-a978-f0cce13a31bb",
   "metadata": {},
   "outputs": [
    {
     "data": {
      "text/plain": [
       "'Started on 05/07/25\\nlast edited on 05/07/25'"
      ]
     },
     "execution_count": 2,
     "metadata": {},
     "output_type": "execute_result"
    }
   ],
   "source": [
    "'''Started on 05/07/25\n",
    "last edited on 05/07/25'''"
   ]
  },
  {
   "cell_type": "markdown",
   "id": "d3f4e9b3-4aa6-45bf-91f8-c36d1f684821",
   "metadata": {},
   "source": [
    "# imports"
   ]
  },
  {
   "cell_type": "code",
   "execution_count": 3,
   "id": "fab857f6-bb78-46ce-83e0-94f9bdef2323",
   "metadata": {},
   "outputs": [
    {
     "name": "stderr",
     "output_type": "stream",
     "text": [
      "ERROR 1: PROJ: proj_create_from_database: Open of /glade/u/home/geethma/.conda/envs/wgh/share/proj failed\n"
     ]
    }
   ],
   "source": [
    "import gc\n",
    "import sys\n",
    "sys.path.append(\"/glade/u/home/geethma/phd_research_home/functions\")\n",
    "from imports import *"
   ]
  },
  {
   "cell_type": "code",
   "execution_count": null,
   "id": "aa502bbe-add9-4f60-a1cc-735cb3b55bcf",
   "metadata": {},
   "outputs": [],
   "source": [
    "gc.collect()"
   ]
  },
  {
   "cell_type": "code",
   "execution_count": 5,
   "id": "2f13bee4-f7ef-4e8c-8203-3c1c895b51ab",
   "metadata": {},
   "outputs": [],
   "source": [
    "from load_xarray import *\n"
   ]
  },
  {
   "cell_type": "code",
   "execution_count": 6,
   "id": "a5c6e6dc-a8bb-4108-8755-13213538fa3f",
   "metadata": {},
   "outputs": [],
   "source": [
    "from lat_weight_mean import *\n"
   ]
  },
  {
   "cell_type": "code",
   "execution_count": 7,
   "id": "90b3245e-b4fd-4615-ac13-14e58cfdd683",
   "metadata": {},
   "outputs": [],
   "source": [
    "from TOAf import *"
   ]
  },
  {
   "cell_type": "markdown",
   "id": "f7dd237e-a604-469b-866e-5ad59ab3f8e4",
   "metadata": {},
   "source": [
    "# load data"
   ]
  },
  {
   "cell_type": "code",
   "execution_count": 9,
   "id": "a89e0a3a-5f13-470a-8944-12fd65184d67",
   "metadata": {},
   "outputs": [
    {
     "name": "stdout",
     "output_type": "stream",
     "text": [
      "xmap\n",
      "ymap\n",
      "clrmap\n",
      "filter\n",
      "filter2\n"
     ]
    }
   ],
   "source": [
    "LWP_varn=\"dLWPmap_gol\"; T_varn=\"dTSmap_gol\"; ocean=False\n",
    "Lv = 2264705.  # J/kg\n",
    "### Load maps\n",
    "file_names = {\n",
    "    \"dLWPmap\": LWP_varn,\n",
    "    \"dTSmap\": T_varn,\n",
    "    \"pe_maps_ol\": \"pe_maps_ol\",\n",
    "    \"pe_maps_o\": \"pe_maps_o\"\n",
    "}\n",
    "datasets = {var_name: load_xarray(file_name) for var_name, file_name in file_names.items()}\n",
    "\n",
    "### ∆LWP map\n",
    "dLWP_TSmap = datasets['dLWPmap'] / datasets['dTSmap']  # kgm-2K-1\n",
    "dLWP_TSmap = dLWP_TSmap.assign_coords(lon=(((dLWP_TSmap.lon + 180) % 360) - 180))\n",
    "dLWP_TSmap = dLWP_TSmap.sortby('lon')\n",
    "\n",
    "### cloud feedback\n",
    "cf = (load_xarray('dSWCREmap')+load_xarray('dLWCREmap'))/datasets['dTSmap']\n",
    "cf = cf.assign_coords(lon=(((cf.lon + 180) % 360) - 180))\n",
    "cf = cf.sortby('lon')\n",
    "cf_mean = lat_weight_mean(cf)[0]\n",
    "\n",
    "### PD MC map\n",
    "PDMC_QFLX_da = datasets['pe_maps_o' if ocean else 'pe_maps_ol']*86400\n",
    "\n",
    "### converging area\n",
    "convergence_mask = PDMC_QFLX_da > 0\n",
    "\n",
    "### incoming solar flux  #downwelling SW flux at TOA\n",
    "SW_d_list = []\n",
    "run_numbers = []\n",
    "for fnum in range(263):\n",
    "    try:\n",
    "        fnums = f\"{fnum:03d}\"\n",
    "        SWfn_list = np.load(f'/glade/derecho/scratch/geethma/PPE_PD_inSolar/maps_{fnums}.npz')  #PPE_PD_FSDTOA\n",
    "        SW_maps = np.mean(SWfn_list['data'], axis=0)\n",
    "        # SW_mean = lat_weight_mean(SW_maps)\n",
    "        SW_d_list.append(SW_maps)\n",
    "        run_numbers.append(fnum)\n",
    "    except FileNotFoundError:\n",
    "        print(f'{fnums} not available.')\n",
    "        continue\n",
    "SW_d_list = np.array(SW_d_list)\n",
    "SWD_da = xr.DataArray(data=SW_d_list,\n",
    "                      coords={'runs': run_numbers,\n",
    "                              'lat': SWfn_list['lat'],\n",
    "                              'lon': SWfn_list['lon']},\n",
    "                      dims=['runs','lat','lon'])\n",
    "SWD_da = SWD_da.assign_coords(lon=(((SWD_da.lon + 180) % 360) - 180))\n",
    "SWD_da = SWD_da.sortby('lon')  # [Wm-2]\n",
    "if ocean:\n",
    "    from get_land_mask import get_land_mask\n",
    "    land_mask = get_land_mask(SWD_da['lat'], SWD_da['lon'])[0]\n",
    "    land_mask_da = xr.DataArray(\n",
    "        land_mask,\n",
    "        coords={'lat': SWD_da.lat, 'lon': SWD_da.lon},\n",
    "        dims=['lat', 'lon']\n",
    "    )\n",
    "    SWD_da = SWD_da * land_mask_da\n",
    "\n",
    "### convergence contribution\n",
    "# plt.figure(); dLWP_TSmap[0].plot()\n",
    "# plt.figure(); SWD_da[0].plot()\n",
    "# plt.figure(); PDMC_QFLX_da[0].plot()\n",
    "conv_contrib = dLWP_TSmap*convergence_mask*SWD_da*PDMC_QFLX_da\n",
    "# conv_contrib = convergence_mask*SWD_da*PDMC_QFLX_da\n",
    "# plt.figure(); conv_contrib[0].plot()\n",
    "conv_contrib_mean, conv_contrib_sem, conv_contrib_std = lat_weight_mean(conv_contrib)\n",
    "filter_conv = lat_weight_mean(convergence_mask*SWD_da*PDMC_QFLX_da)[0]\n",
    "# print(filter_conv)\n",
    "\n",
    "### TOA means\n",
    "TOA = TOAf()\n",
    "filtered_TOA_15 = TOA.where((TOA >= TOA[0] - 15) & (TOA <= TOA[0] + 15), drop=True)\n",
    "\n",
    "### global precipitation efficiency means\n",
    "file = np.load('/glade/campaign/uwyo/wyom0124/variables_filtered/pe.npz')\n",
    "pe_gm_o = xr.DataArray(file['data'], dims=['runs'], coords={'runs': file['runs']})  # [s-1]\n",
    "\n",
    "### Select only common runs for all datasets\n",
    "final_data_n = {\n",
    "    \"xmap\": pe_gm_o,\n",
    "    \"ymap\": conv_contrib_mean,\n",
    "    \"clrmap\": cf_mean,\n",
    "    \"filter\": filtered_TOA_15,\n",
    "    \"filter2\": filter_conv\n",
    "}\n",
    "keys = list(final_data_n.keys())\n",
    "common_members = final_data_n[keys[0]][\"runs\"].values\n",
    "for name in keys:\n",
    "    print(name)\n",
    "    common_members = np.intersect1d(common_members, final_data_n[name][\"runs\"].values)\n",
    "final_data = {name: ds.sel(runs=common_members) for name, ds in final_data_n.items()}"
   ]
  },
  {
   "cell_type": "code",
   "execution_count": 10,
   "id": "e1b7fa7f-307c-4854-bca5-61f2ebee666f",
   "metadata": {},
   "outputs": [],
   "source": [
    "Lv = 2264705.  # J/kg"
   ]
  },
  {
   "cell_type": "code",
   "execution_count": 11,
   "id": "bf462f27-ab41-4502-b0e9-e7ebdc015416",
   "metadata": {},
   "outputs": [
    {
     "name": "stdout",
     "output_type": "stream",
     "text": [
      "287.99544532834324\n"
     ]
    }
   ],
   "source": [
    "## Load MERRA observational data\n",
    "### Moisture convergence\n",
    "merrafn = xr.open_mfdataset('/glade/derecho/scratch/geethma/merra2/EFLUX/*.nc4', \n",
    "                            combine='by_coords', parallel=True)\n",
    "monthly_merrafn = merrafn.mean(dim='time')\n",
    "merraMC = (monthly_merrafn['PRECTOT'] - monthly_merrafn['EFLUX']/Lv)*86400\n",
    "# plt.figure(); merraMC.plot(cmap='seismic')\n",
    "\n",
    "### TOA SW downwelling\n",
    "merrafn = xr.open_mfdataset('/glade/derecho/scratch/geethma/merra2/in_solar/*.nc4', \n",
    "                            combine='by_coords', parallel=True)  # SW_TOA\n",
    "monthly_merrafn = merrafn.mean(dim='time')\n",
    "merraSW = monthly_merrafn['SWTDN']\n",
    "if ocean:\n",
    "    from get_land_mask import get_land_mask\n",
    "    land_mask = get_land_mask(merraMC['lat'], merraMC['lon'])[0]\n",
    "    merraMC *= land_mask\n",
    "    merraSW *= land_mask\n",
    "# plt.figure(); merraSW.plot(cmap='seismic')\n",
    "\n",
    "# Observational constraint on convergence area\n",
    "merra_conv_area = xr.where(merraMC > 0, 1, 0)\n",
    "merra_conv_sw = merra_conv_area*merraSW*merraMC\n",
    "# plt.figure(); merra_conv_sw.plot()\n",
    "merraMC_mean, merraMC_sem, _ = lat_weight_mean(merra_conv_sw)\n",
    "print(merraMC_mean.values)\n",
    "obs_constraint_lower = merraMC_mean.values - merraMC_sem.values\n",
    "obs_constraint_upper = merraMC_mean.values + merraMC_sem.values\n",
    "\n",
    "# Identify constrained points\n",
    "PPE_conv_SWD = final_data['filter2']\n",
    "constrained = (PPE_conv_SWD.values >= obs_constraint_lower) & (PPE_conv_SWD.values <= obs_constraint_upper)\n"
   ]
  },
  {
   "cell_type": "code",
   "execution_count": 12,
   "id": "7fa494ac-c78c-45df-ba84-9ba581cc08b7",
   "metadata": {},
   "outputs": [],
   "source": [
    "## Constrained Pe\n",
    "from cyclone_obs import *\n",
    "from cyclone_metrics import *\n",
    "PPE_grad_LWP_WCB, PPE_grad_LWP_PRC = cyclone_metrics()\n",
    "obs_dict = cyclone_obs()\n",
    "PPE_grad_LWP_WCB = PPE_grad_LWP_WCB.sel(runs=common_members)"
   ]
  },
  {
   "cell_type": "code",
   "execution_count": 13,
   "id": "5eeab65a-aa8a-492e-a55b-22aa3cb7733b",
   "metadata": {},
   "outputs": [],
   "source": [
    "cloudlwp = obs_dict['cloudlwp']*0.001  #[kg/m2]\n",
    "wcb = obs_dict['sfcwind']*obs_dict['wvp']*2.66e-7*86400  #[m/s * kg/m2 * m.mm/kg * s/day = mm/day]\n",
    "num_bins = 10\n",
    "ind = ~np.isnan(wcb * cloudlwp)\n",
    "\n",
    "# Calculate bins and statistics in one go\n",
    "bin_stats = stats.binned_statistic(wcb[ind], [cloudlwp[ind], wcb[ind]], statistic='mean', bins=num_bins)\n",
    "lwp_bin, wcb_bin = bin_stats.statistic\n",
    "count = stats.binned_statistic(wcb[ind], wcb[ind], statistic='count', bins=num_bins).statistic\n",
    "obs_grad = np.nansum(np.gradient(lwp_bin)/np.gradient(wcb_bin)*count)/np.nansum(count)\n",
    "\n",
    "obs_grad_LWP_WCB = obs_grad.copy()\n",
    "\n",
    "lower_bound_WCB = obs_grad_LWP_WCB - 0.1 * obs_grad_LWP_WCB\n",
    "upper_bound_WCB = obs_grad_LWP_WCB + 0.1 * obs_grad_LWP_WCB"
   ]
  },
  {
   "cell_type": "code",
   "execution_count": 14,
   "id": "613f5d4b-503f-4196-a689-d7e60a076a50",
   "metadata": {},
   "outputs": [
    {
     "data": {
      "image/png": "[encoded data removed]",
      "text/plain": [
       "<Figure size 800x600 with 2 Axes>"
      ]
     },
     "metadata": {},
     "output_type": "display_data"
    }
   ],
   "source": [
    "#### Pe - ∆LWP_conv*A_conv - total global CF\n",
    "#### MERRA2 constraint by area of convergence * SWD\n",
    "x_p = PPE_grad_LWP_WCB\n",
    "y_p = final_data['ymap']\n",
    "c_p = final_data['clrmap']\n",
    "plt.scatter(x_p, y_p, c=c_p, cmap='seismic',\n",
    "           vmin=-0.6, vmax=0.6)\n",
    "plt.colorbar(label='CF_global')\n",
    "plt.scatter(x_p.sel(runs=constrained), y_p.sel(runs=constrained), \n",
    "            edgecolor='black', facecolor='none', s=100, linewidth=1.5, label='Obs Constrained')\n",
    "plt.axvline(x=obs_grad_LWP_WCB, color='grey', linestyle='--')\n",
    "plt.axvspan(lower_bound_WCB, upper_bound_WCB, facecolor='grey', alpha=0.3)\n",
    "plt.xlabel('$∂LWP/∂WCB_{EC}$')\n",
    "plt.ylabel('∆LWP_conv * A_conv * Incoming Solar flux')\n",
    "# plt.savefig('figures/∆LWP_Aconv_solarVS∂LWP∂WCBVSCF.png', bbox_inches='tight', dpi=500, facecolor='white')\n",
    "plt.title('MERRA2 constraint by area of convergence * InSolar')\n",
    "plt.show()"
   ]
  },
  {
   "cell_type": "markdown",
   "id": "8d180e5e-edb2-4e2b-b5de-a3530c39ab68",
   "metadata": {},
   "source": [
    "# RF emulator - simple"
   ]
  },
  {
   "cell_type": "code",
   "execution_count": 15,
   "id": "2fefde02-a3b7-49de-95d7-8958ce44993c",
   "metadata": {},
   "outputs": [],
   "source": [
    "from sklearn.model_selection import train_test_split"
   ]
  },
  {
   "cell_type": "code",
   "execution_count": 18,
   "id": "4c995655-d8d3-4258-8335-9833e552f25e",
   "metadata": {},
   "outputs": [],
   "source": [
    "ind = np.isnan(x_p*y_p*c_p)==False\n",
    "X = np.column_stack((x_p.data[ind], y_p.data[ind]))  # shape (254, 2)\n",
    "y = c_p.data[ind]\n",
    "\n",
    "X_train, X_test, y_train, y_test = train_test_split(\n",
    "    X, y, test_size=0.2, random_state=42\n",
    ")"
   ]
  },
  {
   "cell_type": "code",
   "execution_count": 19,
   "id": "b8ed65d9-68aa-4aaf-a571-f06f3b51afc9",
   "metadata": {},
   "outputs": [
    {
     "data": {
      "text/plain": [
       "RandomForestRegressor(random_state=42)"
      ]
     },
     "execution_count": 19,
     "metadata": {},
     "output_type": "execute_result"
    }
   ],
   "source": [
    "from sklearn.ensemble import RandomForestRegressor\n",
    "\n",
    "model = RandomForestRegressor(n_estimators=100, random_state=42)\n",
    "model.fit(X_train, y_train)\n"
   ]
  },
  {
   "cell_type": "code",
   "execution_count": 20,
   "id": "7d5d795a-0099-4138-a32f-78e3f7310064",
   "metadata": {},
   "outputs": [
    {
     "name": "stdout",
     "output_type": "stream",
     "text": [
      "Test MSE: 0.0193\n",
      "Test R² Score: 0.2450\n"
     ]
    }
   ],
   "source": [
    "from sklearn.metrics import mean_squared_error, r2_score\n",
    "\n",
    "y_pred = model.predict(X_test)\n",
    "mse = mean_squared_error(y_test, y_pred)\n",
    "r2 = r2_score(y_test, y_pred)\n",
    "\n",
    "print(f\"Test MSE: {mse:.4f}\")\n",
    "print(f\"Test R² Score: {r2:.4f}\")\n"
   ]
  },
  {
   "cell_type": "markdown",
   "id": "1cb8fcac-94eb-4487-8598-036df92e63c9",
   "metadata": {},
   "source": [
    "# RF emulator (full dataset) - Barnes"
   ]
  },
  {
   "cell_type": "code",
   "execution_count": 22,
   "id": "ace967e5-0e6e-4c68-bfea-9e242c35a422",
   "metadata": {},
   "outputs": [
    {
     "data": {
      "text/plain": [
       "'https://github.com/eabarnes1010/course_objective_analysis/blob/main/code/random_forest_ozone_joshuatree.ipynb'"
      ]
     },
     "execution_count": 22,
     "metadata": {},
     "output_type": "execute_result"
    }
   ],
   "source": [
    "'''https://github.com/eabarnes1010/course_objective_analysis/blob/main/code/random_forest_ozone_joshuatree.ipynb'''"
   ]
  },
  {
   "cell_type": "code",
   "execution_count": 23,
   "id": "616d2550-cfbd-42a4-af85-16272c6f31de",
   "metadata": {},
   "outputs": [
    {
     "name": "stderr",
     "output_type": "stream",
     "text": [
      "2025-05-07 11:49:45.895676: W tensorflow/stream_executor/platform/default/dso_loader.cc:64] Could not load dynamic library 'libcudart.so.11.0'; dlerror: libcudart.so.11.0: cannot open shared object file: No such file or directory; LD_LIBRARY_PATH: /glade/u/apps/casper/24.12/spack/opt/spack/openmpi/5.0.6/oneapi/2024.2.1/ptm3/lib:/glade/u/apps/casper/24.12/spack/opt/spack/cuda/12.3.2/gcc/12.4.0/jw45/lib64:/glade/u/apps/casper/24.12/spack/opt/spack/cuda/12.3.2/gcc/12.4.0/jw45/nvvm/lib64:/glade/u/apps/casper/24.12/spack/opt/spack/cuda/12.3.2/gcc/12.4.0/jw45/extras/CUPTI/lib64:/glade/u/apps/casper/24.12/spack/opt/spack/cuda/12.3.2/gcc/12.4.0/jw45/extras/Debugger/lib64:/glade/u/apps/casper/24.12/spack/opt/spack/intel-oneapi-compilers/2024.2.1/gcc/12.4.0/iq3b/compiler/2024.2/opt/compiler/lib:/glade/u/apps/casper/24.12/spack/opt/spack/intel-oneapi-compilers/2024.2.1/gcc/12.4.0/iq3b/compiler/2024.2/lib:/glade/u/apps/casper/24.12/spack/opt/spack/gcc/12.4.0/5b5c/lib64:/glade/u/apps/casper/24.12/spack/opt/spack/hdf5/1.12.3/oneapi/2024.2.1/yvyr/lib\n",
      "2025-05-07 11:49:45.895737: I tensorflow/stream_executor/cuda/cudart_stub.cc:29] Ignore above cudart dlerror if you do not have a GPU set up on your machine.\n"
     ]
    }
   ],
   "source": [
    "\n",
    "import sys\n",
    "import numpy as np\n",
    "import seaborn as sb\n",
    "\n",
    "import pandas as pd\n",
    "import datetime\n",
    "import tensorflow as tf\n",
    "#import tensorflow.keras as keras\n",
    "import sklearn\n",
    "#import pydot\n",
    "import matplotlib.pyplot as plt\n",
    "import matplotlib.patches as patches"
   ]
  },
  {
   "cell_type": "code",
   "execution_count": 24,
   "id": "c2380fd4-4790-424e-b907-f75c84c9bd91",
   "metadata": {},
   "outputs": [],
   "source": [
    "# Read in data from url\n",
    "url = \"https://raw.githubusercontent.com/eabarnes1010/course_ml_ats/main/data/ozone_data_joshuatreenp.csv\"\n",
    "data = pd.read_csv(url,parse_dates=[\"DATE_TIME\"],infer_datetime_format=True)\n",
    "\n",
    "# Fix data issue with Daylight Savings Time\n",
    "duplicate_dates = data['DATE_TIME'][data.duplicated('DATE_TIME')]\n",
    "for dup_date in duplicate_dates:\n",
    "  idx = data['DATE_TIME'].eq(dup_date).idxmax()\n",
    "  data.at[idx, 'DATE_TIME'] = dup_date - pd.Timedelta(value=1, unit='hours')\n",
    "\n",
    "# Add hour and day of year\n",
    "data['HOUR'] = data['DATE_TIME'].dt.hour\n",
    "data['MONTH'] = data['DATE_TIME'].dt.month\n",
    "data['YEAR'] = data['DATE_TIME'].dt.year\n",
    "data['DAYOFYEAR'] = data['DATE_TIME'].dt.dayofyear\n",
    "data.sort_values('DATE_TIME', inplace=True, ignore_index = True)"
   ]
  },
  {
   "cell_type": "code",
   "execution_count": 25,
   "id": "7a89125a-4258-42c3-9a2d-be6a21159e7d",
   "metadata": {},
   "outputs": [],
   "source": [
    "\n",
    "\n",
    "# MODIFY: input variables\n",
    "# DO NOT USE: \"OZONE\" or \"TEMPERATURE_DELTA\"\n",
    "INPUT_VARIABLES = [\n",
    "    \"TEMPERATURE\",\n",
    "    \"RELATIVE_HUMIDITY\",\n",
    "    \"WINDSPEED\",\n",
    "]"
   ]
  },
  {
   "cell_type": "code",
   "execution_count": 26,
   "id": "919217fd-f7c3-44d7-9a16-e9998b7f06ae",
   "metadata": {},
   "outputs": [
    {
     "data": {
      "text/html": [
       "<div>\n",
       "<style scoped>\n",
       "    .dataframe tbody tr th:only-of-type {\n",
       "        vertical-align: middle;\n",
       "    }\n",
       "\n",
       "    .dataframe tbody tr th {\n",
       "        vertical-align: top;\n",
       "    }\n",
       "\n",
       "    .dataframe thead th {\n",
       "        text-align: right;\n",
       "    }\n",
       "</style>\n",
       "<table border=\"1\" class=\"dataframe\">\n",
       "  <thead>\n",
       "    <tr style=\"text-align: right;\">\n",
       "      <th></th>\n",
       "      <th>OZONE</th>\n",
       "      <th>TEMPERATURE</th>\n",
       "      <th>RELATIVE_HUMIDITY</th>\n",
       "      <th>WINDSPEED</th>\n",
       "      <th>DATE_TIME</th>\n",
       "      <th>HOUR</th>\n",
       "      <th>MONTH</th>\n",
       "      <th>YEAR</th>\n",
       "    </tr>\n",
       "  </thead>\n",
       "  <tbody>\n",
       "    <tr>\n",
       "      <th>7</th>\n",
       "      <td>45.125</td>\n",
       "      <td>3.299987</td>\n",
       "      <td>30.875</td>\n",
       "      <td>3.337462</td>\n",
       "      <td>2010-01-01 07:00:00</td>\n",
       "      <td>7</td>\n",
       "      <td>1</td>\n",
       "      <td>2010</td>\n",
       "    </tr>\n",
       "    <tr>\n",
       "      <th>8</th>\n",
       "      <td>45.125</td>\n",
       "      <td>3.749988</td>\n",
       "      <td>30.875</td>\n",
       "      <td>2.899962</td>\n",
       "      <td>2010-01-01 08:00:00</td>\n",
       "      <td>8</td>\n",
       "      <td>1</td>\n",
       "      <td>2010</td>\n",
       "    </tr>\n",
       "    <tr>\n",
       "      <th>9</th>\n",
       "      <td>45.375</td>\n",
       "      <td>4.374975</td>\n",
       "      <td>30.500</td>\n",
       "      <td>2.649962</td>\n",
       "      <td>2010-01-01 09:00:00</td>\n",
       "      <td>9</td>\n",
       "      <td>1</td>\n",
       "      <td>2010</td>\n",
       "    </tr>\n",
       "    <tr>\n",
       "      <th>10</th>\n",
       "      <td>45.625</td>\n",
       "      <td>5.074975</td>\n",
       "      <td>30.375</td>\n",
       "      <td>2.387462</td>\n",
       "      <td>2010-01-01 10:00:00</td>\n",
       "      <td>10</td>\n",
       "      <td>1</td>\n",
       "      <td>2010</td>\n",
       "    </tr>\n",
       "    <tr>\n",
       "      <th>11</th>\n",
       "      <td>46.000</td>\n",
       "      <td>5.862475</td>\n",
       "      <td>29.875</td>\n",
       "      <td>2.249975</td>\n",
       "      <td>2010-01-01 11:00:00</td>\n",
       "      <td>11</td>\n",
       "      <td>1</td>\n",
       "      <td>2010</td>\n",
       "    </tr>\n",
       "  </tbody>\n",
       "</table>\n",
       "</div>"
      ],
      "text/plain": [
       "     OZONE  TEMPERATURE  RELATIVE_HUMIDITY  WINDSPEED           DATE_TIME  \\\n",
       "7   45.125     3.299987             30.875   3.337462 2010-01-01 07:00:00   \n",
       "8   45.125     3.749988             30.875   2.899962 2010-01-01 08:00:00   \n",
       "9   45.375     4.374975             30.500   2.649962 2010-01-01 09:00:00   \n",
       "10  45.625     5.074975             30.375   2.387462 2010-01-01 10:00:00   \n",
       "11  46.000     5.862475             29.875   2.249975 2010-01-01 11:00:00   \n",
       "\n",
       "    HOUR  MONTH  YEAR  \n",
       "7      7      1  2010  \n",
       "8      8      1  2010  \n",
       "9      9      1  2010  \n",
       "10    10      1  2010  \n",
       "11    11      1  2010  "
      ]
     },
     "metadata": {},
     "output_type": "display_data"
    }
   ],
   "source": [
    "\n",
    "\n",
    "# Let's isolate our variables of interest and take the 8-hour running mean\n",
    "\n",
    "# First using input and output variables together to take running mean\n",
    "df_data_to_be_used = data[['OZONE'] + INPUT_VARIABLES]\n",
    "\n",
    "# Here we take the 8-hour rolling mean (note: DATE_TIME does not work)\n",
    "df_data_to_be_used = df_data_to_be_used.rolling(8).mean()\n",
    "\n",
    "# Now adding Date and Time components\n",
    "df_data_to_be_used[['DATE_TIME', 'HOUR', 'MONTH', 'YEAR']] = \\\n",
    "    data[['DATE_TIME', 'HOUR', 'MONTH', 'YEAR']]\n",
    "\n",
    "# Dropping NaNs\n",
    "df_data_to_be_used.dropna(inplace=True)\n",
    "\n",
    "display(df_data_to_be_used.head())"
   ]
  },
  {
   "cell_type": "code",
   "execution_count": 27,
   "id": "24413d4a-89dd-46c9-9a6a-7187b255e533",
   "metadata": {},
   "outputs": [
    {
     "name": "stdout",
     "output_type": "stream",
     "text": [
      "Ozone Value: 45.125\n",
      "Ozone Class: 0\n",
      "Encoded As: [1 0 0]\n",
      "\n",
      "Ozone Value: 58.0\n",
      "Ozone Class: 1\n",
      "Encoded As: [0 1 0]\n"
     ]
    }
   ],
   "source": [
    "\n",
    "\n",
    "# Creating a numpy array for our inputs and outputs\n",
    "input = df_data_to_be_used[INPUT_VARIABLES].values\n",
    "output_raw = df_data_to_be_used['OZONE'].values\n",
    "\n",
    "# Creating numpy arrays for time/date info for visualizations\n",
    "hour = df_data_to_be_used['HOUR'].values\n",
    "month = df_data_to_be_used['MONTH'].values\n",
    "year = df_data_to_be_used['YEAR'].values\n",
    "\n",
    "# Turning ozone into classification problem:\n",
    "  # Class 0: Good, Class 1: Fair, Class 2: Poor\n",
    "output_class = (output_raw >= 55).astype(int) + (output_raw >= 71).astype(int)\n",
    "output = (output_class.reshape(-1,1) == np.unique(output_class)).astype(int)\n",
    "\n",
    "# Here is how our data is encoded into classes.\n",
    "print('Ozone Value:', output_raw[0])\n",
    "print('Ozone Class:', output_class[0])\n",
    "print('Encoded As:', output[0])\n",
    "print()\n",
    "print('Ozone Value:', output_raw[2000])\n",
    "print('Ozone Class:', output_class[2000])\n",
    "print('Encoded As:', output[2000])"
   ]
  },
  {
   "cell_type": "code",
   "execution_count": 33,
   "id": "316c9206-4c0a-4c0c-9f3a-92fdb4b79b31",
   "metadata": {},
   "outputs": [
    {
     "data": {
      "text/plain": [
       "(199, 2)"
      ]
     },
     "execution_count": 33,
     "metadata": {},
     "output_type": "execute_result"
    }
   ],
   "source": [
    "np.shape(input)"
   ]
  },
  {
   "cell_type": "code",
   "execution_count": 34,
   "id": "d5797827-ba33-4961-91c0-ab4fca0ccd95",
   "metadata": {},
   "outputs": [
    {
     "data": {
      "text/plain": [
       "(199,)"
      ]
     },
     "execution_count": 34,
     "metadata": {},
     "output_type": "execute_result"
    }
   ],
   "source": [
    "np.shape(output)"
   ]
  },
  {
   "cell_type": "code",
   "execution_count": null,
   "id": "b83fb7e8-b0b8-42cc-adb4-b86a8dc21e8e",
   "metadata": {},
   "outputs": [],
   "source": []
  },
  {
   "cell_type": "code",
   "execution_count": 32,
   "id": "d915c460-1f45-4465-8cd4-460aad9740c3",
   "metadata": {},
   "outputs": [],
   "source": [
    "# Creating a numpy array for inputs and outputs\n",
    "ind = np.isnan(x_p*y_p*c_p)==False\n",
    "input = np.column_stack((x_p.data[ind], y_p.data[ind]))  # shape (254, 2)\n",
    "output = c_p.data[ind]\n"
   ]
  },
  {
   "cell_type": "code",
   "execution_count": 37,
   "id": "afa80382-4493-4972-9423-91db2001bc81",
   "metadata": {},
   "outputs": [],
   "source": [
    "# Splitting into training, testing, validation\n",
    "from sklearn.model_selection import train_test_split\n",
    "from sklearn.model_selection import train_test_split\n",
    "\n",
    "# Step 1: Train-test split (e.g., 80% train_val, 20% test)\n",
    "X_train_val, X_test, y_train_val, y_test = train_test_split(input, output, test_size=0.2, random_state=42)\n",
    "\n",
    "# Step 2: Split train_val into train and validation (e.g., 75% of 80% = 60% train, 20% val)\n",
    "X_train, X_val, y_train, y_val = train_test_split(X_train_val, y_train_val, test_size=0.25, random_state=42)\n"
   ]
  },
  {
   "cell_type": "markdown",
   "id": "22ab4751-ac23-411f-80a3-d519fbfac99c",
   "metadata": {},
   "source": [
    "# building the model"
   ]
  },
  {
   "cell_type": "code",
   "execution_count": 41,
   "id": "8066dc71-2f37-42d4-8570-5bf3e237d1a9",
   "metadata": {},
   "outputs": [],
   "source": [
    "from sklearn.ensemble import RandomForestRegressor\n",
    "from sklearn import metrics"
   ]
  },
  {
   "cell_type": "code",
   "execution_count": 44,
   "id": "01f3484d-dd9a-4b72-b115-ef496f1e87d4",
   "metadata": {},
   "outputs": [],
   "source": [
    "### Here is where we actually build the model\n",
    "\n",
    "# Create and Train the Random Forest Classifier\n",
    "#-------------------------------------------------------------------------------------------------\n",
    "# MODIFY: important tunable parameters (hyperparameters) for model\n",
    "number_of_trees = 1               # number of trees to \"average\" together to create a random forest\n",
    "tree_depth = 1                     # maximum depth allowed for each tree\n",
    "node_split = 30                     # minimum number of training samples needed to split a node\n",
    "leaf_samples = 30                   # minimum number of training samples required to make a leaf node\n",
    "criterion = 'gini'                 # 'gini' or 'entropy'\n",
    "bootstrap = False                  # whether to perform \"bagging=bootstrap aggregating\" or not\n",
    "max_samples = None                 # number of samples to grab when training each tree IF bootstrap=True, otherwise None\n",
    "class_weight = None                # class weights, default None. Use 'balanced' to weight by class frequency, or customize with format [{0:1.0,1:1.0}, {0:1.0,1:1.0}, {0:1.0,1:1.0}]\n",
    "RAND_STATE = 13                    # specify random state for reproducibility\n",
    "#-------------------------------------------------------------------------------------------------\n"
   ]
  },
  {
   "cell_type": "code",
   "execution_count": 45,
   "id": "688c68dc-d678-4235-92f9-fcf2046948df",
   "metadata": {},
   "outputs": [
    {
     "data": {
      "text/plain": [
       "RandomForestRegressor(bootstrap=False, max_depth=1, min_samples_leaf=30,\n",
       "                      min_samples_split=30, n_estimators=1, random_state=13)"
      ]
     },
     "execution_count": 45,
     "metadata": {},
     "output_type": "execute_result"
    }
   ],
   "source": [
    "from sklearn.ensemble import RandomForestRegressor\n",
    "\n",
    "rf = RandomForestRegressor(\n",
    "    n_estimators=number_of_trees,\n",
    "    max_depth=tree_depth,\n",
    "    min_samples_split=node_split,\n",
    "    min_samples_leaf=leaf_samples,\n",
    "    bootstrap=bootstrap,\n",
    "    max_samples=max_samples,\n",
    "    random_state=RAND_STATE\n",
    ")\n",
    "\n",
    "# Train the model\n",
    "rf.fit(X_train, y_train)\n"
   ]
  },
  {
   "cell_type": "code",
   "execution_count": null,
   "id": "3cb586e8-a478-4966-af96-525b4ec3b7e0",
   "metadata": {},
   "outputs": [],
   "source": []
  }
 ],
 "metadata": {
  "kernelspec": {
   "display_name": "wgh",
   "language": "python",
   "name": "wgh"
  },
  "language_info": {
   "codemirror_mode": {
    "name": "ipython",
    "version": 3
   },
   "file_extension": ".py",
   "mimetype": "text/x-python",
   "name": "python",
   "nbconvert_exporter": "python",
   "pygments_lexer": "ipython3",
   "version": "3.9.7"
  }
 },
 "nbformat": 4,
 "nbformat_minor": 5
}
